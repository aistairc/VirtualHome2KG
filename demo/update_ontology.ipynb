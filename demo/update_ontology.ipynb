{
 "cells": [
  {
   "cell_type": "code",
   "execution_count": 43,
   "id": "89bf36b4",
   "metadata": {},
   "outputs": [],
   "source": [
    "import IPython.display\n",
    "import sys\n",
    "import json\n",
    "from rdflib import *\n",
    "import glob\n",
    "import os\n",
    "import re\n",
    "from SPARQLWrapper import SPARQLWrapper, JSON, BASIC"
   ]
  },
  {
   "cell_type": "code",
   "execution_count": 44,
   "id": "04383742",
   "metadata": {},
   "outputs": [],
   "source": [
    "def loadAuthFile():\n",
    "    with open('auth_add_places.txt') as f:\n",
    "        auth =  f.readlines()\n",
    "        auth = [x.replace('\\n','') for x in auth]\n",
    "    return auth"
   ]
  },
  {
   "cell_type": "code",
   "execution_count": 45,
   "id": "a8fb81ee",
   "metadata": {},
   "outputs": [],
   "source": [
    "def getSPARQLResults(queryString, auth):\n",
    "    result = None\n",
    "    sparql = SPARQLWrapper(auth[0] + \"KGRC4SI_20221208_r1\")\n",
    "    sparql.setHTTPAuth(BASIC)\n",
    "    sparql.setCredentials(auth[1], auth[2])\n",
    "    sparql.setQuery(queryString)\n",
    "    sparql.setReturnFormat(JSON)\n",
    "    try :\n",
    "        json = sparql.query().convert()\n",
    "        bindings = json['results']['bindings']\n",
    "        result = bindings\n",
    "    except  Exception as e:\n",
    "        print(e)\n",
    "    return result"
   ]
  },
  {
   "cell_type": "code",
   "execution_count": 46,
   "id": "20a1fe19",
   "metadata": {},
   "outputs": [],
   "source": [
    "def getAskSPARQLResults(queryString, auth):\n",
    "    result = None\n",
    "    sparql = SPARQLWrapper(auth[0] + \"KGRC4SI_20221208_r1\")\n",
    "    sparql.setHTTPAuth(BASIC)\n",
    "    sparql.setCredentials(auth[1], auth[2])\n",
    "    sparql.setQuery(queryString)\n",
    "    sparql.setReturnFormat(JSON)\n",
    "    try :\n",
    "        json = sparql.query().convert()\n",
    "        result = json['boolean']\n",
    "    except  Exception as e:\n",
    "        print(e)\n",
    "    return result"
   ]
  },
  {
   "cell_type": "code",
   "execution_count": 47,
   "id": "f0f6039f",
   "metadata": {},
   "outputs": [],
   "source": [
    "def checkClass(instance):\n",
    "    auth = loadAuthFile()\n",
    "    query = \"\"\"\n",
    "            PREFIX ho: <http://www.owl-ontologies.com/VirtualHome.owl#>\n",
    "            ASK { ho:%s ?p ?o }\n",
    "        \"\"\"\n",
    "    result = getAskSPARQLResults(query % class_name, auth)\n",
    "    return result"
   ]
  },
  {
   "cell_type": "code",
   "execution_count": 48,
   "id": "76dc7df2",
   "metadata": {},
   "outputs": [],
   "source": [
    "def getActivity():\n",
    "    auth = loadAuthFile()\n",
    "    query = \"\"\"\n",
    "            PREFIX ho: <http://www.owl-ontologies.com/VirtualHome.owl#>\n",
    "            PREFIX ex: <http://example.org/virtualhome2kg/instance/>\n",
    "            PREFIX vh2kg: <http://example.org/virtualhome2kg/ontology/>\n",
    "            SELECT DISTINCT ?s \n",
    "            WHERE { \n",
    "                ?s vh2kg:virtualHome ?scene . \n",
    "            }\n",
    "        \"\"\"\n",
    "    result = getSPARQLResults(query, auth)\n",
    "    return result"
   ]
  },
  {
   "cell_type": "code",
   "execution_count": 49,
   "id": "c885edfa",
   "metadata": {},
   "outputs": [],
   "source": [
    "base = Namespace(\"http://example.org/virtualhome2kg/instance/\")\n",
    "onto = Namespace(\"http://example.org/virtualhome2kg/ontology/\")\n",
    "ho = Namespace(\"http://www.owl-ontologies.com/VirtualHome.owl#\")\n",
    "g = Graph()\n",
    "g.bind(\"example.py\", base)\n",
    "g.bind(\"vh2kg\", onto)\n",
    "g.bind(\"ho\", ho)\n",
    "g.bind(\"owl\", OWL)\n",
    "results = getActivity()\n",
    "rules = {\n",
    "    \"clean\": \"HouseCleaning\",\n",
    "    \"television\": \"Leisure\",\n",
    "    \"eat\": \"EatingDrinking\",\n",
    "    \"drink\": \"EatingDrinking\",\n",
    "    \"relax\": \"Leisure\",\n",
    "    \"watch\": \"Leisure\",\n",
    "    \"put\": \"HouseArrangement\"\n",
    "}\n",
    "for result in results:\n",
    "    activity = result[\"s\"][\"value\"]\n",
    "    activity_name = activity.replace(\"http://example.org/virtualhome2kg/instance/\", \"\")\n",
    "    class_name = re.sub(\"[0-9]*_scene[0-7]\", \"\", activity_name)\n",
    "    if checkClass(activity) == False:\n",
    "        g.add((ho[class_name], RDF.type, OWL.Class))\n",
    "        parent = [rules[x] for x in rules if x in class_name][0]\n",
    "        g.add((ho[class_name], RDFS.subClassOf, ho[parent]))"
   ]
  },
  {
   "cell_type": "code",
   "execution_count": 50,
   "id": "15f9826d",
   "metadata": {},
   "outputs": [],
   "source": [
    "output_path=\"../dataset/Dataset_12082022_revised/rdf20230228/add_classes.ttl\"\n",
    "g.serialize(destination=output_path, format=\"ttl\")"
   ]
  },
  {
   "cell_type": "code",
   "execution_count": 51,
   "id": "3e632ea0",
   "metadata": {},
   "outputs": [
    {
     "data": {
      "text/plain": [
       "<Graph identifier=Nf358884aba28424a844660b5ebe607ab (<class 'rdflib.graph.Graph'>)>"
      ]
     },
     "execution_count": 51,
     "metadata": {},
     "output_type": "execute_result"
    }
   ],
   "source": [
    "g.parse(\"../ontology/vh2kg_schema.ttl\", format=\"ttl\")"
   ]
  },
  {
   "cell_type": "code",
   "execution_count": 52,
   "id": "a1082f8a",
   "metadata": {},
   "outputs": [],
   "source": [
    "output_path=\"../dataset/Dataset_12082022_revised/rdf20230228/vh2kg_schema_2023-02.ttl\"\n",
    "g.serialize(destination=output_path, format=\"ttl\")"
   ]
  },
  {
   "cell_type": "code",
   "execution_count": null,
   "id": "1b502cf7",
   "metadata": {},
   "outputs": [],
   "source": []
  }
 ],
 "metadata": {
  "kernelspec": {
   "display_name": "Python 3",
   "language": "python",
   "name": "python3"
  },
  "language_info": {
   "codemirror_mode": {
    "name": "ipython",
    "version": 3
   },
   "file_extension": ".py",
   "mimetype": "text/x-python",
   "name": "python",
   "nbconvert_exporter": "python",
   "pygments_lexer": "ipython3",
   "version": "3.8.3"
  }
 },
 "nbformat": 4,
 "nbformat_minor": 5
}
