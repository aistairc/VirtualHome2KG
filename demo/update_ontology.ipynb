{
 "cells": [
  {
   "cell_type": "code",
   "execution_count": null,
   "metadata": {},
   "outputs": [],
   "source": [
    "import IPython.display\n",
    "import sys\n",
    "import json\n",
    "from rdflib import *\n",
    "import glob\n",
    "import os\n",
    "import re\n",
    "from SPARQLWrapper import SPARQLWrapper, JSON, BASIC"
   ]
  },
  {
   "cell_type": "code",
   "execution_count": null,
   "metadata": {},
   "outputs": [],
   "source": [
    "def loadAuthFile():\n",
    "    with open('auth_add_places.txt') as f:\n",
    "        auth =  f.readlines()\n",
    "        auth = [x.replace('\\n','') for x in auth]\n",
    "    return auth"
   ]
  },
  {
   "cell_type": "code",
   "execution_count": null,
   "metadata": {},
   "outputs": [],
   "source": [
    "def getSPARQLResults(queryString, auth):\n",
    "    result = None\n",
    "    sparql = SPARQLWrapper(auth[0] + \"KGRC4SI_20221208_r2\")\n",
    "    sparql.setHTTPAuth(BASIC)\n",
    "    sparql.setCredentials(auth[1], auth[2])\n",
    "    sparql.setQuery(queryString)\n",
    "    sparql.setReturnFormat(JSON)\n",
    "    try :\n",
    "        json = sparql.query().convert()\n",
    "        bindings = json['results']['bindings']\n",
    "        result = bindings\n",
    "    except  Exception as e:\n",
    "        print(e)\n",
    "    return result"
   ]
  },
  {
   "cell_type": "code",
   "execution_count": null,
   "metadata": {},
   "outputs": [],
   "source": [
    "def getAskSPARQLResults(queryString, auth):\n",
    "    result = None\n",
    "    sparql = SPARQLWrapper(auth[0] + \"KGRC4SI_20221208_r2\")\n",
    "    sparql.setHTTPAuth(BASIC)\n",
    "    sparql.setCredentials(auth[1], auth[2])\n",
    "    sparql.setQuery(queryString)\n",
    "    sparql.setReturnFormat(JSON)\n",
    "    try :\n",
    "        json = sparql.query().convert()\n",
    "        result = json['boolean']\n",
    "    except  Exception as e:\n",
    "        print(e)\n",
    "    return result"
   ]
  },
  {
   "cell_type": "code",
   "execution_count": null,
   "metadata": {},
   "outputs": [],
   "source": [
    "def checkClass(instance):\n",
    "    auth = loadAuthFile()\n",
    "    query = \"\"\"\n",
    "            PREFIX ho: <http://www.owl-ontologies.com/VirtualHome.owl#>\n",
    "            ASK { ho:%s ?p ?o }\n",
    "        \"\"\"\n",
    "    result = getAskSPARQLResults(query % class_name, auth)\n",
    "    return result"
   ]
  },
  {
   "cell_type": "code",
   "execution_count": null,
   "metadata": {},
   "outputs": [],
   "source": [
    "def getActivity():\n",
    "    auth = loadAuthFile()\n",
    "    query = \"\"\"\n",
    "            PREFIX ho: <http://www.owl-ontologies.com/VirtualHome.owl#>\n",
    "            PREFIX ex: <http://example.org/virtualhome2kg/instance/>\n",
    "            PREFIX vh2kg: <http://example.org/virtualhome2kg/ontology/>\n",
    "            SELECT DISTINCT ?s \n",
    "            WHERE { \n",
    "                ?s vh2kg:virtualHome ?scene . \n",
    "            }\n",
    "        \"\"\"\n",
    "    result = getSPARQLResults(query, auth)\n",
    "    return result"
   ]
  },
  {
   "cell_type": "code",
   "execution_count": null,
   "metadata": {},
   "outputs": [],
   "source": [
    "base = Namespace(\"http://example.org/virtualhome2kg/instance/\")\n",
    "onto = Namespace(\"http://example.org/virtualhome2kg/ontology/\")\n",
    "ho = Namespace(\"http://www.owl-ontologies.com/VirtualHome.owl#\")\n",
    "g = Graph()\n",
    "g.bind(\"example.py\", base)\n",
    "g.bind(\"vh2kg\", onto)\n",
    "g.bind(\"ho\", ho)\n",
    "g.bind(\"owl\", OWL)\n",
    "results = getActivity()\n",
    "rules = {\n",
    "    \"clean\": \"HouseCleaning\",\n",
    "    \"television\": \"Leisure\",\n",
    "    \"eat\": \"EatingDrinking\",\n",
    "    \"drink\": \"EatingDrinking\",\n",
    "    \"relax\": \"Leisure\",\n",
    "    \"watch\": \"Leisure\",\n",
    "    \"research_on_computer\": \"Work\",#Added on 2023/07/10\n",
    "    \"put\": \"HouseArrangement\",\n",
    "    \"cook\": \"FoodPreparation\",#Added on 2023/07/07\n",
    "    \"homework\": \"Work\",#Added on 2023/07/07\n",
    "    \"fall\": \"Abnormal\",#Added on 2023/07/07\n",
    "    \"fold\": \"HouseArrangement\",#Added on 2023/07/07\n",
    "    \"out_of_bed\": \"BedTimeSleep\",#Added on 2023/07/07\n",
    "    \"beverage\": \"EatingDrinking\",#Added on 2023/07/07\n",
    "    \"legopp\": \"PhysicalActivity\",#Added on 2023/07/10\n",
    "    \"cereal\": \"FoodPreparation\",#Added on 2023/07/10\n",
    "    \"pick_up_dirty\": \"HouseArrangement\",#Added on 2023/07/10\n",
    "    \"place_\": \"HouseArrangement\",#Added on 2023/07/10\n",
    "    \"brushing_teeth\": \"HygieneStyling\",#Added on 2023/07/10\n",
    "    \"bedtime\": \"BedTimeSleep\",#Added on 2023/07/10\n",
    "    \"read_textbook\": \"Work\",#Added on 2023/07/10\n",
    "    \"rinse_toothbrush\": \"HygieneStyling\",#Added on 2023/07/10\n",
    "    \"disorientation\": \"Abnormal\",#Added on 2023/07/10\n",
    "    \"stretch\": \"PhysicalActivity\",#Added on 2023/07/10\n",
    "    \"social_media\": \"Leisure\",#Added on 2023/07/10\n",
    "    \"squat\": \"PhysicalActivity\",#Added on 2023/07/10\n",
    "    \"stand_on\": \"Abnormal\",#Added on 2023/07/10\n",
    "    \"straddle\": \"PhysicalActivity\",#Added on 2023/07/10\n",
    "    \"trash\": \"HouseArrangement\",#Added on 2023/07/10\n",
    "    \"use_phone\": \"Leisure\",#Added on 2023/07/10\n",
    "    \"memory_loss\": \"Abnormal\",#Added on 2023/07/10\n",
    "    \"write_notes\": \"Work\",#Added on 2023/07/10\n",
    "}\n",
    "for result in results:\n",
    "    activity = result[\"s\"][\"value\"]\n",
    "    activity_name = activity.replace(\"http://example.org/virtualhome2kg/instance/\", \"\")\n",
    "    class_name = re.sub(\"[0-9]*_scene[0-7]\", \"\", activity_name)\n",
    "    if checkClass(activity) == False:\n",
    "        g.add((ho[class_name], RDF.type, OWL.Class))\n",
    "        parent = [rules[x] for x in rules if x in class_name][0]\n",
    "        g.add((ho[class_name], RDFS.subClassOf, ho[parent]))"
   ]
  },
  {
   "cell_type": "code",
   "execution_count": null,
   "metadata": {},
   "outputs": [],
   "source": [
    "output_path=\"../dataset/Dataset_12082022_revised2/rdf20230320/add_classes.ttl\"\n",
    "g.serialize(destination=output_path, format=\"ttl\")"
   ]
  },
  {
   "cell_type": "code",
   "execution_count": null,
   "metadata": {},
   "outputs": [],
   "source": [
    "g.parse(\"../ontology/vh2kg_schema.ttl\", format=\"ttl\")"
   ]
  },
  {
   "cell_type": "code",
   "execution_count": null,
   "metadata": {},
   "outputs": [],
   "source": [
    "output_path=\"../dataset/Dataset_12082022_revised2/rdf20230320/vh2kg_schema_2023-07.ttl\"\n",
    "g.serialize(destination=output_path, format=\"ttl\")"
   ]
  },
  {
   "cell_type": "code",
   "execution_count": null,
   "metadata": {},
   "outputs": [],
   "source": []
  }
 ],
 "metadata": {
  "kernelspec": {
   "display_name": "Python 3",
   "language": "python",
   "name": "python3"
  },
  "language_info": {
   "codemirror_mode": {
    "name": "ipython",
    "version": 3
   },
   "file_extension": ".py",
   "mimetype": "text/x-python",
   "name": "python",
   "nbconvert_exporter": "python",
   "pygments_lexer": "ipython3",
   "version": "3.8.3"
  }
 },
 "nbformat": 4,
 "nbformat_minor": 5
}
